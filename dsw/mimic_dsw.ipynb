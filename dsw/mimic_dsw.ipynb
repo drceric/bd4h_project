{
 "cells": [
  {
   "cell_type": "code",
   "execution_count": 1,
   "metadata": {},
   "outputs": [],
   "source": [
    "import os\n",
    "import numpy as np\n",
    "from sklearn.metrics import mean_squared_error\n",
    "from tqdm import tqdm\n",
    "from model_synthetic_package import LSTMModel\n",
    "from train_synthetic_package import trainInitIPTW\n",
    "\n",
    "# dataset meta data\n",
    "n_X_features = 27\n",
    "n_X_static_features = 12\n",
    "n_X_t_types = 1\n",
    "n_classes = 1"
   ]
  },
  {
   "cell_type": "code",
   "execution_count": 2,
   "metadata": {},
   "outputs": [],
   "source": [
    "import torch"
   ]
  },
  {
   "cell_type": "code",
   "execution_count": 3,
   "metadata": {},
   "outputs": [],
   "source": [
    "import torch.nn.functional as F\n",
    "\n",
    "import torch.optim as optim\n",
    "from torch.utils import data\n",
    "import torch.nn as nn"
   ]
  },
  {
   "cell_type": "code",
   "execution_count": 7,
   "metadata": {},
   "outputs": [],
   "source": [
    "def get_dim():\n",
    "    return n_X_features, n_X_static_features, n_X_t_types, n_classes\n",
    "\n",
    "\n",
    "class SyntheticDataset(data.Dataset):\n",
    "    def __init__(self, list_IDs, obs_w, treatment):\n",
    "        '''Initialization'''\n",
    "        self.list_IDs = list_IDs\n",
    "        self.obs_w = obs_w\n",
    "        self.treatment = treatment\n",
    "\n",
    "\n",
    "    def __len__(self):\n",
    "        '''Denotes the total number of samples'''\n",
    "        return len(self.list_IDs)\n",
    "\n",
    "    def __getitem__(self, index):\n",
    "        '''Generates one sample of data'''\n",
    "        # Select sample\n",
    "        ID = self.list_IDs[index]\n",
    "\n",
    "        # Load labels\n",
    "        label = np.load(data_dir + '{}.y.npy'.format(ID))\n",
    "\n",
    "        # Load data\n",
    "        X_demographic = np.load(data_dir + '{}.static.npy'.format(ID))\n",
    "        X_all = np.load(data_dir + '{}.x.npy'.format(ID))\n",
    "        X_treatment_res = np.load(data_dir + '{}.a.npy'.format(ID))\n",
    "\n",
    "        X = torch.from_numpy(X_all.astype(np.float32))\n",
    "        X_demo = torch.from_numpy(X_demographic.astype(np.float32))\n",
    "        X_treatment = torch.from_numpy(X_treatment_res.astype(np.float32))\n",
    "        y = torch.from_numpy(label.astype(np.float32))\n",
    "\n",
    "        return X, X_demo, X_treatment, y"
   ]
  },
  {
   "cell_type": "code",
   "execution_count": 5,
   "metadata": {},
   "outputs": [
    {
     "name": "stdout",
     "output_type": "stream",
     "text": [
      "hi\n"
     ]
    }
   ],
   "source": [
    "#Default Parameters\n",
    "treatment_option = 'vaso'\n",
    "observation_window = 12\n",
    "epochs = 1\n",
    "batch_size = 128\n",
    "lr = .001\n",
    "weight_decay = .00001\n",
    "l1 = .00001\n",
    "resume = ''.format(treatment_option)\n",
    "cuda_device = 1\n",
    "\n",
    "gamma_h=(.1,.3,.5,.7)\n",
    "HIDDEN_SIZE = 32\n",
    "CUDA = False\n",
    "\n",
    "print('hi')\n",
    "os.makedirs(r'model_checkpoints', exist_ok=True)"
   ]
  },
  {
   "cell_type": "code",
   "execution_count": 16,
   "metadata": {},
   "outputs": [
    {
     "data": {
      "text/plain": [
       "array([200003, 200019, 200030, ..., 299992, 299995, 299998])"
      ]
     },
     "execution_count": 16,
     "metadata": {},
     "output_type": "execute_result"
    }
   ],
   "source": [
    "train_test_split[np.where(train_test_split == 1)[0]][:, 0]"
   ]
  },
  {
   "cell_type": "code",
   "execution_count": 17,
   "metadata": {},
   "outputs": [
    {
     "name": "stderr",
     "output_type": "stream",
     "text": [
      "100%|█████████████████████████████████████████████████████████████████| 50/50 [00:16<00:00,  2.98it/s]"
     ]
    },
    {
     "name": "stdout",
     "output_type": "stream",
     "text": [
      "Epoch: 0, IPW train loss: 0.6220552289485931\n",
      "Epoch: 0, Outcome train loss: 0.11779082551598549\n"
     ]
    },
    {
     "name": "stderr",
     "output_type": "stream",
     "text": [
      "\n"
     ]
    },
    {
     "name": "stdout",
     "output_type": "stream",
     "text": [
      "Validation:\n",
      "PEHE: 0.3003\tATE: 0.2446\n",
      "RMSE: 0.3183\n",
      "\n",
      "Best model. Saving...\n",
      "\n",
      "Test:\n",
      "PEHE: 0.3006\tATE: 0.2428\n",
      "RMSE: 0.2992\n",
      "\n",
      "0.30062394192938574\n",
      "0.24277463818366118\n",
      "0.29923904\n"
     ]
    },
    {
     "name": "stderr",
     "output_type": "stream",
     "text": [
      "100%|█████████████████████████████████████████████████████████████████| 50/50 [00:18<00:00,  2.65it/s]"
     ]
    },
    {
     "name": "stdout",
     "output_type": "stream",
     "text": [
      "Epoch: 0, IPW train loss: 0.5880910068750381\n",
      "Epoch: 0, Outcome train loss: 0.08143239244818687\n"
     ]
    },
    {
     "name": "stderr",
     "output_type": "stream",
     "text": [
      "\n"
     ]
    },
    {
     "name": "stdout",
     "output_type": "stream",
     "text": [
      "Validation:\n",
      "PEHE: 0.4806\tATE: 0.4188\n",
      "RMSE: 0.2092\n",
      "\n",
      "Best model. Saving...\n",
      "\n",
      "Test:\n",
      "PEHE: 0.4845\tATE: 0.4235\n",
      "RMSE: 0.2037\n",
      "\n",
      "0.4844838121395484\n",
      "0.4235131926597934\n",
      "0.20366123\n"
     ]
    },
    {
     "name": "stderr",
     "output_type": "stream",
     "text": [
      "100%|█████████████████████████████████████████████████████████████████| 50/50 [00:22<00:00,  2.25it/s]"
     ]
    },
    {
     "name": "stdout",
     "output_type": "stream",
     "text": [
      "Epoch: 0, IPW train loss: 0.6386651742458344\n",
      "Epoch: 0, Outcome train loss: 0.1108573567122221\n"
     ]
    },
    {
     "name": "stderr",
     "output_type": "stream",
     "text": [
      "\n"
     ]
    },
    {
     "name": "stdout",
     "output_type": "stream",
     "text": [
      "Validation:\n",
      "PEHE: 0.5450\tATE: 0.4703\n",
      "RMSE: 0.2752\n",
      "\n",
      "Best model. Saving...\n",
      "\n",
      "Test:\n",
      "PEHE: 0.5445\tATE: 0.4728\n",
      "RMSE: 0.2502\n",
      "\n",
      "0.5445424873676763\n",
      "0.472797603707241\n",
      "0.25020012\n"
     ]
    },
    {
     "name": "stderr",
     "output_type": "stream",
     "text": [
      "100%|█████████████████████████████████████████████████████████████████| 50/50 [00:21<00:00,  2.28it/s]"
     ]
    },
    {
     "name": "stdout",
     "output_type": "stream",
     "text": [
      "Epoch: 0, IPW train loss: 0.6490657961368561\n",
      "Epoch: 0, Outcome train loss: 0.11887206986546517\n"
     ]
    },
    {
     "name": "stderr",
     "output_type": "stream",
     "text": [
      "\n"
     ]
    },
    {
     "name": "stdout",
     "output_type": "stream",
     "text": [
      "Validation:\n",
      "PEHE: 0.2554\tATE: 0.2044\n",
      "RMSE: 0.1929\n",
      "\n",
      "Best model. Saving...\n",
      "\n",
      "Test:\n",
      "PEHE: 0.2541\tATE: 0.1998\n",
      "RMSE: 0.1887\n",
      "\n",
      "0.25412330157722635\n",
      "0.1997513266103685\n",
      "0.18868367\n"
     ]
    }
   ],
   "source": [
    "for gamma in gamma_h:\n",
    "    data_dir = '../data/data_synthetic/data_mimic_mean_syn_{}/'.format(gamma)\n",
    "    save_model = 'model_checkpoints/mimic-syn-6-7-{}.pt'.format(gamma)\n",
    "    train_test_split = np.loadtxt('../data/data_synthetic/data_mimic_mean_syn_{}/train_test_split.csv'.format(gamma), delimiter=',',\n",
    "                                  dtype=int)\n",
    "    train_iids = train_test_split[np.where(train_test_split == 1)[0]][:, 0]\n",
    "    val_iids = train_test_split[np.where(train_test_split == 2)[0]][:, 0]\n",
    "    test_iids = train_test_split[np.where(train_test_split == 0)[0]][:, 0]\n",
    "    train_dataset = SyntheticDataset(train_iids, 12, treatment_option)\n",
    "    val_dataset = SyntheticDataset(val_iids, 12, treatment_option)\n",
    "    test_dataset = SyntheticDataset(test_iids, 12, treatment_option)\n",
    "    train_loader = torch.utils.data.DataLoader(train_dataset, 128, shuffle=True)\n",
    "    val_loader = torch.utils.data.DataLoader(val_dataset, 128, shuffle=True)\n",
    "    test_loader = torch.utils.data.DataLoader(test_dataset, 128, shuffle=True)\n",
    "    n_X_features, n_X_static_features, n_X_fr_types, n_classes = get_dim()\n",
    "    if ''.format(treatment_option):\n",
    "        if os.path.isfile(''.format(treatment_option)):\n",
    "            print(\"=> loading checkpoint '{}'\".format(''.format(treatment_option)))\n",
    "\n",
    "            model = torch.load(''.format(treatment_option))\n",
    "            model = model.cuda()\n",
    "\n",
    "            print(\"=> loaded checkpoint '{}'\"\n",
    "                  .format(''.format(treatment_option)))\n",
    "\n",
    "        else:\n",
    "            print(\"=> no checkpoint found at '{}'\".format(''.format(treatment_option)))\n",
    "    else:\n",
    "\n",
    "        attn_model = 'concat2'\n",
    "        n_Z_confounders = HIDDEN_SIZE\n",
    "\n",
    "        model = LSTMModel(n_X_features, n_X_static_features, n_X_fr_types, n_Z_confounders,\n",
    "                          attn_model, n_classes, 12,\n",
    "                          128, hidden_size=HIDDEN_SIZE)\n",
    "\n",
    "    adam_optimizer = optim.Adam(model.parameters(), lr=1e-3, weight_decay=1e-5)\n",
    "\n",
    "    model = trainInitIPTW(train_loader, val_loader, test_loader,\n",
    "                          model, epochs=epochs,\n",
    "                          criterion=F.binary_cross_entropy_with_logits, optimizer=adam_optimizer,\n",
    "                          l1_reg_coef=1e-5,\n",
    "                          use_cuda=False,\n",
    "                          save_model=save_model)"
   ]
  },
  {
   "cell_type": "code",
   "execution_count": null,
   "metadata": {},
   "outputs": [],
   "source": []
  }
 ],
 "metadata": {
  "kernelspec": {
   "display_name": "Python [conda env:project]",
   "language": "python",
   "name": "conda-env-project-py"
  },
  "language_info": {
   "codemirror_mode": {
    "name": "ipython",
    "version": 3
   },
   "file_extension": ".py",
   "mimetype": "text/x-python",
   "name": "python",
   "nbconvert_exporter": "python",
   "pygments_lexer": "ipython3",
   "version": "3.8.13"
  }
 },
 "nbformat": 4,
 "nbformat_minor": 2
}
