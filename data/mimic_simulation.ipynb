{
 "cells": [
  {
   "cell_type": "code",
   "execution_count": 1,
   "metadata": {},
   "outputs": [],
   "source": [
    "import pandas as pd\n",
    "import numpy as np\n",
    "from tqdm import tqdm\n",
    "import os"
   ]
  },
  {
   "cell_type": "code",
   "execution_count": 2,
   "metadata": {},
   "outputs": [],
   "source": [
    "treatment_option = 'vaso'\n",
    "observation_window = 30\n",
    "step = 3"
   ]
  },
  {
   "cell_type": "code",
   "execution_count": 17,
   "metadata": {},
   "outputs": [],
   "source": [
    "static_feat = ['age', 'is_female', 'is_male',\n",
    "       'race_white', 'race_black', 'race_hispanic', 'race_other',\n",
    "       'metastatic_cancer', 'diabetes', 'height', 'weight', 'bmi']\n",
    "\n",
    "var = ['hemoglobin','crp','heartrate','creatinine',\n",
    " 'hematocrit','sysbp','tempc','pt','sodium','diasbp', 'gcs','platelet','ptt',\n",
    " 'chloride','resprate','glucose','bicarbonate','bands', 'bun',\n",
    " 'magnesium','urineoutput','inr','lactate','aniongap','spo2','wbc','meanbp']"
   ]
  },
  {
   "cell_type": "code",
   "execution_count": 30,
   "metadata": {},
   "outputs": [],
   "source": [
    "full_df = pd.read_csv('target_full_data.csv')"
   ]
  },
  {
   "cell_type": "code",
   "execution_count": 66,
   "metadata": {},
   "outputs": [],
   "source": [
    "n_X_static_features = 12\n",
    "n_X_features = len(var)"
   ]
  },
  {
   "cell_type": "code",
   "execution_count": 193,
   "metadata": {},
   "outputs": [
    {
     "data": {
      "text/plain": [
       "27"
      ]
     },
     "execution_count": 193,
     "metadata": {},
     "output_type": "execute_result"
    }
   ],
   "source": [
    "n_X_features"
   ]
  },
  {
   "cell_type": "markdown",
   "metadata": {},
   "source": [
    "### The ICU stay id with enough data (33 hour 11 interval)"
   ]
  },
  {
   "cell_type": "code",
   "execution_count": 31,
   "metadata": {},
   "outputs": [
    {
     "data": {
      "text/html": [
       "<div>\n",
       "<style scoped>\n",
       "    .dataframe tbody tr th:only-of-type {\n",
       "        vertical-align: middle;\n",
       "    }\n",
       "\n",
       "    .dataframe tbody tr th {\n",
       "        vertical-align: top;\n",
       "    }\n",
       "\n",
       "    .dataframe thead th {\n",
       "        text-align: right;\n",
       "    }\n",
       "</style>\n",
       "<table border=\"1\" class=\"dataframe\">\n",
       "  <thead>\n",
       "    <tr style=\"text-align: right;\">\n",
       "      <th></th>\n",
       "      <th>icustay_id</th>\n",
       "      <th>interval_index</th>\n",
       "    </tr>\n",
       "  </thead>\n",
       "  <tbody>\n",
       "    <tr>\n",
       "      <th>0</th>\n",
       "      <td>200003</td>\n",
       "      <td>10.0</td>\n",
       "    </tr>\n",
       "    <tr>\n",
       "      <th>1</th>\n",
       "      <td>200019</td>\n",
       "      <td>10.0</td>\n",
       "    </tr>\n",
       "    <tr>\n",
       "      <th>2</th>\n",
       "      <td>200030</td>\n",
       "      <td>10.0</td>\n",
       "    </tr>\n",
       "    <tr>\n",
       "      <th>3</th>\n",
       "      <td>200036</td>\n",
       "      <td>10.0</td>\n",
       "    </tr>\n",
       "    <tr>\n",
       "      <th>4</th>\n",
       "      <td>200059</td>\n",
       "      <td>10.0</td>\n",
       "    </tr>\n",
       "    <tr>\n",
       "      <th>...</th>\n",
       "      <td>...</td>\n",
       "      <td>...</td>\n",
       "    </tr>\n",
       "    <tr>\n",
       "      <th>10062</th>\n",
       "      <td>299969</td>\n",
       "      <td>10.0</td>\n",
       "    </tr>\n",
       "    <tr>\n",
       "      <th>10063</th>\n",
       "      <td>299988</td>\n",
       "      <td>10.0</td>\n",
       "    </tr>\n",
       "    <tr>\n",
       "      <th>10064</th>\n",
       "      <td>299992</td>\n",
       "      <td>10.0</td>\n",
       "    </tr>\n",
       "    <tr>\n",
       "      <th>10065</th>\n",
       "      <td>299995</td>\n",
       "      <td>10.0</td>\n",
       "    </tr>\n",
       "    <tr>\n",
       "      <th>10066</th>\n",
       "      <td>299998</td>\n",
       "      <td>10.0</td>\n",
       "    </tr>\n",
       "  </tbody>\n",
       "</table>\n",
       "<p>9722 rows × 2 columns</p>\n",
       "</div>"
      ],
      "text/plain": [
       "       icustay_id  interval_index\n",
       "0          200003            10.0\n",
       "1          200019            10.0\n",
       "2          200030            10.0\n",
       "3          200036            10.0\n",
       "4          200059            10.0\n",
       "...           ...             ...\n",
       "10062      299969            10.0\n",
       "10063      299988            10.0\n",
       "10064      299992            10.0\n",
       "10065      299995            10.0\n",
       "10066      299998            10.0\n",
       "\n",
       "[9722 rows x 2 columns]"
      ]
     },
     "execution_count": 31,
     "metadata": {},
     "output_type": "execute_result"
    }
   ],
   "source": [
    "max_interval_data = full_df.groupby('icustay_id').agg({'interval_index': max}).reset_index()\n",
    "max_interval_data[max_interval_data.interval_index == 10]"
   ]
  },
  {
   "cell_type": "code",
   "execution_count": 50,
   "metadata": {},
   "outputs": [],
   "source": [
    "check_id = max_interval_data[max_interval_data.interval_index == 10].icustay_id.unique()"
   ]
  },
  {
   "cell_type": "code",
   "execution_count": 52,
   "metadata": {},
   "outputs": [],
   "source": [
    "used_id = []\n",
    "for ii in check_id:\n",
    "    tmp = full_df[full_df.icustay_id == ii]\n",
    "    if tmp.shape[0] == 11:\n",
    "        used_id.append(ii)"
   ]
  },
  {
   "cell_type": "code",
   "execution_count": 53,
   "metadata": {},
   "outputs": [
    {
     "data": {
      "text/plain": [
       "9064"
      ]
     },
     "execution_count": 53,
     "metadata": {},
     "output_type": "execute_result"
    }
   ],
   "source": [
    "len(used_id)"
   ]
  },
  {
   "cell_type": "code",
   "execution_count": 77,
   "metadata": {},
   "outputs": [],
   "source": [
    "full_df = full_df.fillna(full_df.mean())"
   ]
  },
  {
   "cell_type": "markdown",
   "metadata": {},
   "source": [
    "### Static data"
   ]
  },
  {
   "cell_type": "code",
   "execution_count": 117,
   "metadata": {},
   "outputs": [],
   "source": []
  },
  {
   "cell_type": "code",
   "execution_count": 120,
   "metadata": {},
   "outputs": [],
   "source": []
  },
  {
   "cell_type": "code",
   "execution_count": 122,
   "metadata": {},
   "outputs": [
    {
     "data": {
      "text/html": [
       "<div>\n",
       "<style scoped>\n",
       "    .dataframe tbody tr th:only-of-type {\n",
       "        vertical-align: middle;\n",
       "    }\n",
       "\n",
       "    .dataframe tbody tr th {\n",
       "        vertical-align: top;\n",
       "    }\n",
       "\n",
       "    .dataframe thead th {\n",
       "        text-align: right;\n",
       "    }\n",
       "</style>\n",
       "<table border=\"1\" class=\"dataframe\">\n",
       "  <thead>\n",
       "    <tr style=\"text-align: right;\">\n",
       "      <th></th>\n",
       "      <th>age</th>\n",
       "      <th>is_female</th>\n",
       "      <th>is_male</th>\n",
       "      <th>race_white</th>\n",
       "      <th>race_black</th>\n",
       "      <th>race_hispanic</th>\n",
       "      <th>race_other</th>\n",
       "      <th>metastatic_cancer</th>\n",
       "      <th>diabetes</th>\n",
       "      <th>height</th>\n",
       "      <th>weight</th>\n",
       "      <th>bmi</th>\n",
       "    </tr>\n",
       "  </thead>\n",
       "  <tbody>\n",
       "    <tr>\n",
       "      <th>0</th>\n",
       "      <td>48.2940</td>\n",
       "      <td>0</td>\n",
       "      <td>1</td>\n",
       "      <td>1</td>\n",
       "      <td>0</td>\n",
       "      <td>0</td>\n",
       "      <td>0</td>\n",
       "      <td>0</td>\n",
       "      <td>0</td>\n",
       "      <td>NaN</td>\n",
       "      <td>77.0</td>\n",
       "      <td>NaN</td>\n",
       "    </tr>\n",
       "    <tr>\n",
       "      <th>1</th>\n",
       "      <td>82.8820</td>\n",
       "      <td>1</td>\n",
       "      <td>0</td>\n",
       "      <td>1</td>\n",
       "      <td>0</td>\n",
       "      <td>0</td>\n",
       "      <td>0</td>\n",
       "      <td>0</td>\n",
       "      <td>0</td>\n",
       "      <td>NaN</td>\n",
       "      <td>65.0</td>\n",
       "      <td>NaN</td>\n",
       "    </tr>\n",
       "    <tr>\n",
       "      <th>2</th>\n",
       "      <td>54.1915</td>\n",
       "      <td>0</td>\n",
       "      <td>1</td>\n",
       "      <td>0</td>\n",
       "      <td>1</td>\n",
       "      <td>0</td>\n",
       "      <td>0</td>\n",
       "      <td>0</td>\n",
       "      <td>0</td>\n",
       "      <td>187.96</td>\n",
       "      <td>113.6</td>\n",
       "      <td>32.154922</td>\n",
       "    </tr>\n",
       "    <tr>\n",
       "      <th>3</th>\n",
       "      <td>74.9339</td>\n",
       "      <td>0</td>\n",
       "      <td>1</td>\n",
       "      <td>1</td>\n",
       "      <td>0</td>\n",
       "      <td>0</td>\n",
       "      <td>0</td>\n",
       "      <td>0</td>\n",
       "      <td>0</td>\n",
       "      <td>NaN</td>\n",
       "      <td>79.0</td>\n",
       "      <td>NaN</td>\n",
       "    </tr>\n",
       "    <tr>\n",
       "      <th>4</th>\n",
       "      <td>78.8984</td>\n",
       "      <td>1</td>\n",
       "      <td>0</td>\n",
       "      <td>1</td>\n",
       "      <td>0</td>\n",
       "      <td>0</td>\n",
       "      <td>0</td>\n",
       "      <td>0</td>\n",
       "      <td>0</td>\n",
       "      <td>NaN</td>\n",
       "      <td>54.0</td>\n",
       "      <td>NaN</td>\n",
       "    </tr>\n",
       "    <tr>\n",
       "      <th>...</th>\n",
       "      <td>...</td>\n",
       "      <td>...</td>\n",
       "      <td>...</td>\n",
       "      <td>...</td>\n",
       "      <td>...</td>\n",
       "      <td>...</td>\n",
       "      <td>...</td>\n",
       "      <td>...</td>\n",
       "      <td>...</td>\n",
       "      <td>...</td>\n",
       "      <td>...</td>\n",
       "      <td>...</td>\n",
       "    </tr>\n",
       "    <tr>\n",
       "      <th>10062</th>\n",
       "      <td>75.4760</td>\n",
       "      <td>0</td>\n",
       "      <td>1</td>\n",
       "      <td>1</td>\n",
       "      <td>0</td>\n",
       "      <td>0</td>\n",
       "      <td>0</td>\n",
       "      <td>0</td>\n",
       "      <td>0</td>\n",
       "      <td>177.80</td>\n",
       "      <td>66.9</td>\n",
       "      <td>21.162287</td>\n",
       "    </tr>\n",
       "    <tr>\n",
       "      <th>10063</th>\n",
       "      <td>32.7947</td>\n",
       "      <td>0</td>\n",
       "      <td>1</td>\n",
       "      <td>1</td>\n",
       "      <td>0</td>\n",
       "      <td>0</td>\n",
       "      <td>0</td>\n",
       "      <td>0</td>\n",
       "      <td>0</td>\n",
       "      <td>172.72</td>\n",
       "      <td>90.0</td>\n",
       "      <td>30.168745</td>\n",
       "    </tr>\n",
       "    <tr>\n",
       "      <th>10064</th>\n",
       "      <td>41.5916</td>\n",
       "      <td>0</td>\n",
       "      <td>1</td>\n",
       "      <td>1</td>\n",
       "      <td>0</td>\n",
       "      <td>0</td>\n",
       "      <td>0</td>\n",
       "      <td>0</td>\n",
       "      <td>0</td>\n",
       "      <td>185.42</td>\n",
       "      <td>90.0</td>\n",
       "      <td>26.177572</td>\n",
       "    </tr>\n",
       "    <tr>\n",
       "      <th>10065</th>\n",
       "      <td>23.3763</td>\n",
       "      <td>0</td>\n",
       "      <td>1</td>\n",
       "      <td>1</td>\n",
       "      <td>0</td>\n",
       "      <td>0</td>\n",
       "      <td>0</td>\n",
       "      <td>0</td>\n",
       "      <td>0</td>\n",
       "      <td>NaN</td>\n",
       "      <td>70.4</td>\n",
       "      <td>NaN</td>\n",
       "    </tr>\n",
       "    <tr>\n",
       "      <th>10066</th>\n",
       "      <td>86.9560</td>\n",
       "      <td>0</td>\n",
       "      <td>1</td>\n",
       "      <td>1</td>\n",
       "      <td>0</td>\n",
       "      <td>0</td>\n",
       "      <td>0</td>\n",
       "      <td>0</td>\n",
       "      <td>0</td>\n",
       "      <td>NaN</td>\n",
       "      <td>90.0</td>\n",
       "      <td>NaN</td>\n",
       "    </tr>\n",
       "  </tbody>\n",
       "</table>\n",
       "<p>9064 rows × 12 columns</p>\n",
       "</div>"
      ],
      "text/plain": [
       "           age  is_female  is_male  race_white  race_black  race_hispanic  \\\n",
       "0      48.2940          0        1           1           0              0   \n",
       "1      82.8820          1        0           1           0              0   \n",
       "2      54.1915          0        1           0           1              0   \n",
       "3      74.9339          0        1           1           0              0   \n",
       "4      78.8984          1        0           1           0              0   \n",
       "...        ...        ...      ...         ...         ...            ...   \n",
       "10062  75.4760          0        1           1           0              0   \n",
       "10063  32.7947          0        1           1           0              0   \n",
       "10064  41.5916          0        1           1           0              0   \n",
       "10065  23.3763          0        1           1           0              0   \n",
       "10066  86.9560          0        1           1           0              0   \n",
       "\n",
       "       race_other  metastatic_cancer  diabetes  height  weight        bmi  \n",
       "0               0                  0         0     NaN    77.0        NaN  \n",
       "1               0                  0         0     NaN    65.0        NaN  \n",
       "2               0                  0         0  187.96   113.6  32.154922  \n",
       "3               0                  0         0     NaN    79.0        NaN  \n",
       "4               0                  0         0     NaN    54.0        NaN  \n",
       "...           ...                ...       ...     ...     ...        ...  \n",
       "10062           0                  0         0  177.80    66.9  21.162287  \n",
       "10063           0                  0         0  172.72    90.0  30.168745  \n",
       "10064           0                  0         0  185.42    90.0  26.177572  \n",
       "10065           0                  0         0     NaN    70.4        NaN  \n",
       "10066           0                  0         0     NaN    90.0        NaN  \n",
       "\n",
       "[9064 rows x 12 columns]"
      ]
     },
     "execution_count": 122,
     "metadata": {},
     "output_type": "execute_result"
    }
   ],
   "source": []
  },
  {
   "cell_type": "code",
   "execution_count": 195,
   "metadata": {},
   "outputs": [],
   "source": [
    "X_static = np.random.normal(0, 0.5, size=(len(used_id),n_X_static_features))\n",
    "for j, ID in enumerate(used_id):\n",
    "    if os.path.exists('static/%d.static.npy' % ID):\n",
    "        X_static[j] = np.load('static/%d.static.npy' % ID)\n",
    "    else:\n",
    "        print(ID)\n",
    "X_static = np.nan_to_num(X_static)"
   ]
  },
  {
   "cell_type": "markdown",
   "metadata": {},
   "source": [
    "### X data"
   ]
  },
  {
   "cell_type": "code",
   "execution_count": 197,
   "metadata": {},
   "outputs": [
    {
     "name": "stderr",
     "output_type": "stream",
     "text": [
      "9064it [00:07, 1164.27it/s]\n"
     ]
    }
   ],
   "source": [
    "X = []\n",
    "for ii, ID in tqdm(enumerate(used_id)):\n",
    "    tmp = full_df[full_df.icustay_id == ID]\n",
    "    X.append(tmp[var][:-1].to_numpy())"
   ]
  },
  {
   "cell_type": "code",
   "execution_count": 198,
   "metadata": {},
   "outputs": [],
   "source": [
    "X_new = np.zeros(shape=(len(used_id), observation_window//3, n_X_features))\n",
    "for i in range(len(used_id)):\n",
    "    X_new[i] = X[i]"
   ]
  },
  {
   "cell_type": "markdown",
   "metadata": {},
   "source": [
    "### Treatment"
   ]
  },
  {
   "cell_type": "code",
   "execution_count": 199,
   "metadata": {},
   "outputs": [],
   "source": [
    "treatment = pd.read_csv('vas_treatment_index.csv')"
   ]
  },
  {
   "cell_type": "code",
   "execution_count": 200,
   "metadata": {},
   "outputs": [
    {
     "data": {
      "text/plain": [
       "10062    True\n",
       "Name: start_interval_index, dtype: bool"
      ]
     },
     "execution_count": 200,
     "metadata": {},
     "output_type": "execute_result"
    }
   ],
   "source": [
    "treatment[treatment['icustay_id'] == 243255].start_interval_index.isnull()"
   ]
  },
  {
   "cell_type": "code",
   "execution_count": 201,
   "metadata": {},
   "outputs": [
    {
     "name": "stderr",
     "output_type": "stream",
     "text": [
      "9064it [00:03, 2620.83it/s]\n"
     ]
    }
   ],
   "source": [
    "A = np.zeros(shape=(len(used_id), observation_window//step))\n",
    "for ii, ID in tqdm(enumerate(used_id)):\n",
    "    tmp = treatment[treatment['icustay_id'] == ID]\n",
    "    if tmp.start_interval_index.isnull().values:\n",
    "        A[ii, :] = np.zeros(observation_window//step)\n",
    "    else:\n",
    "        res = np.zeros(observation_window//step)\n",
    "        start_ind, end_ind = int(tmp.start_interval_index.values[0]), int(tmp.end_interval_index.values[0])\n",
    "        i = start_ind\n",
    "        while i <= end_ind:\n",
    "            if end_ind >= 10:\n",
    "                break\n",
    "            res[i] = 1\n",
    "            i += 1\n",
    "        A[ii, :] = res"
   ]
  },
  {
   "cell_type": "markdown",
   "metadata": {},
   "source": [
    "### Simulation"
   ]
  },
  {
   "cell_type": "code",
   "execution_count": 202,
   "metadata": {},
   "outputs": [],
   "source": [
    "X_mean = np.mean(X_new, axis=(0,1))\n",
    "X_std = np.std(X_new, axis=(0,1))\n",
    "\n",
    "X_static_mean = np.mean(X_static, axis=0)\n",
    "X_static_std = np.std(X_static, axis=0)\n",
    "\n",
    "X_norm = np.zeros(shape=(len(used_id),observation_window//step,n_X_features))\n",
    "X_static_norm = np.zeros(shape=(len(used_id),n_X_static_features))\n",
    "\n",
    "\n",
    "for i in range(observation_window//step):\n",
    "    for j in range(n_X_features):\n",
    "        X_norm[:,i,j] = (X_new[:,i,j]-X_mean[j])/X_std[j]\n",
    "\n",
    "for c in range(n_X_static_features):\n",
    "    if c in (0, 8, 9, 10):\n",
    "        X_static_norm[:, c] = (X_static[:,c]-X_static_mean[c])/X_static_std[c]\n",
    "    else:\n",
    "        X_static_norm[:, c] = X_static[:,c]"
   ]
  },
  {
   "cell_type": "code",
   "execution_count": 203,
   "metadata": {},
   "outputs": [],
   "source": [
    "N_treated = len(np.where(np.sum(A, axis=1)>0)[0])\n",
    "\n",
    "A_final = np.where(np.sum(A, axis=1)>0, 1, 0)\n",
    "\n",
    "all_idx = np.arange(len(used_id))\n",
    "np.random.shuffle(all_idx)\n",
    "\n",
    "train_ratio = 0.7\n",
    "val_ratio = 0.1\n",
    "\n",
    "train_idx = all_idx[:int(len(all_idx)*train_ratio)]\n",
    "val_idx = all_idx[int(len(all_idx) * train_ratio):int(len(all_idx) * train_ratio)+int(len(all_idx) * val_ratio)]\n",
    "test_idx = all_idx[int(len(all_idx) * train_ratio)+int(len(all_idx) * val_ratio):]\n",
    "\n",
    "train_ids = [used_id[x] for x in train_idx]\n",
    "val_ids = [used_id[x] for x in val_idx]"
   ]
  },
  {
   "cell_type": "code",
   "execution_count": 225,
   "metadata": {},
   "outputs": [],
   "source": [
    "split = []\n",
    "for x in used_id:\n",
    "    if x in train_ids:\n",
    "        split.append([x, 1])\n",
    "    elif x in val_ids:\n",
    "        split.append([x, 2])\n",
    "    else:\n",
    "        split.append([x, 0])\n",
    "\n",
    "\n",
    "# num of P\n",
    "p = 5\n",
    "# weight of hidden confounders\n",
    "gamma_h = 0.7\n",
    "# num of hidden\n",
    "h = 1\n",
    "N_treated = len(np.where(np.sum(A, axis=1)>0)[0])\n",
    "N = len(used_id)"
   ]
  },
  {
   "cell_type": "code",
   "execution_count": 226,
   "metadata": {},
   "outputs": [],
   "source": [
    "eta, epsilon = np.random.normal(0, 0.001, size=(N, observation_window//step,n_X_features)),np.random.normal(0,0.001, size=(N,observation_window//step,h))\n",
    "delta = np.random.uniform(-1, 1, size=(n_X_features+ n_X_static_features, h))\n",
    "\n",
    "A_final = np.where(np.sum(A, axis=1)>0, 1, 0)\n",
    "Z = np.random.normal(0, 0.5, size=(N,h))\n",
    "Z[np.where(np.sum(A, axis=1)>0), :] = np.random.normal(1, 0.5, size=(N_treated, h))\n",
    "Z_all = [Z]\n",
    "Q_all = []"
   ]
  },
  {
   "cell_type": "code",
   "execution_count": 227,
   "metadata": {},
   "outputs": [],
   "source": [
    "for t in range(1, observation_window//step+1):\n",
    "    i = 1\n",
    "    tmp_x = 0\n",
    "    tmp_z = 0\n",
    "    while (t-i) >= 0 and i <= p:\n",
    "\n",
    "        mu = np.random.normal(1 - (i / p), (1 / p), size=(N, h))\n",
    "        v = np.random.normal(0, 0.02, size=(N, h))\n",
    "        v[np.where(np.sum(A, axis=1) > 0), :] = np.random.normal(1, 0.02, size=(N_treated, h))\n",
    "        tmp_z += np.multiply(mu, Z_all[t - i]) + np.multiply(v, np.tile(A[:, t - i], (h, 1)).T)\n",
    "\n",
    "        i += 1\n",
    "    X_sample = X_norm[:,t-1,:]\n",
    "    Z = tmp_z/(i-1) + epsilon[:,t-1,:]\n",
    "    Z_all.append(Z)\n",
    "    Q = gamma_h * Z + (1 - gamma_h) * np.expand_dims(np.mean(np.concatenate((X_sample, X_static_norm), axis=1), axis=1), axis=1)\n",
    "    Q_all.append(Q)"
   ]
  },
  {
   "cell_type": "code",
   "execution_count": 228,
   "metadata": {},
   "outputs": [],
   "source": [
    "w = np.random.uniform(-1, 1, size=(2, 1))\n",
    "b = np.random.normal(0, 0.1, size=(N, 1))\n",
    "Y_f = np.matmul(np.concatenate((Q, np.expand_dims(A_final, axis=1)),axis=1), w) + b\n",
    "\n",
    "w = np.random.uniform(-1, 1, size=(2, 1))\n",
    "b = np.random.normal(0, 0.1, size=(N, 1))\n",
    "A_final_cf = np.where(A_final==1, 0, 1)\n",
    "Y_cf = np.matmul(np.concatenate((Q, np.expand_dims(A_final_cf, axis=1)),axis=1), w) + b\n",
    "\n",
    "Y_f_norm = Y_f\n",
    "Y_cf_norm = Y_cf"
   ]
  },
  {
   "cell_type": "code",
   "execution_count": 229,
   "metadata": {},
   "outputs": [],
   "source": [
    "data_synthetic = 'data_synthetic'\n",
    "dir_target = '{}/data_mimic_mean_syn_{}'.format(data_synthetic, gamma_h)\n",
    "dir_base = '{}/data_baseline_mimic_mean_syn_{}'.format(data_synthetic,gamma_h)\n",
    "\n",
    "os.makedirs(dir_target, exist_ok=True)\n",
    "os.makedirs(dir_base, exist_ok=True)"
   ]
  },
  {
   "cell_type": "code",
   "execution_count": 230,
   "metadata": {},
   "outputs": [
    {
     "name": "stderr",
     "output_type": "stream",
     "text": [
      "100%|████████████████████████████████████████████████████████████| 9064/9064 [00:10<00:00, 881.71it/s]\n"
     ]
    }
   ],
   "source": [
    "for n in tqdm(range(len(used_id))):\n",
    "    x = np.zeros(shape=(observation_window//step, n_X_features))\n",
    "    ID = used_id[n]\n",
    "    out_x_file = '{}/{}.x.npy'.format(dir_target, ID)\n",
    "    out_static_file = '{}/{}.static.npy'.format(dir_target, ID)\n",
    "    out_a_file = '{}/{}.a.npy'.format(dir_target, ID)\n",
    "    out_y_file = '{}/{}.y.npy'.format(dir_target, ID)\n",
    "    for t in range(observation_window//step):\n",
    "        x[t, :] = X_norm[n,t,:]\n",
    "    x_static = X_static_norm[n,:]\n",
    "    a = A[n,:]\n",
    "\n",
    "    y = [Y_f_norm[n], Y_cf_norm[n]]\n",
    "\n",
    "    np.save(out_x_file, x)\n",
    "    np.save(out_static_file, x_static)\n",
    "    np.save(out_a_file, a)\n",
    "    np.save(out_y_file, y)"
   ]
  },
  {
   "cell_type": "code",
   "execution_count": 231,
   "metadata": {},
   "outputs": [
    {
     "name": "stderr",
     "output_type": "stream",
     "text": [
      "100%|█████████████████████████████████████████████████████████████████| 10/10 [00:05<00:00,  1.74it/s]\n"
     ]
    }
   ],
   "source": [
    "n_classes = 1\n",
    "for t in tqdm(range(observation_window//step)):\n",
    "    # a + y_f + y_cf + n_covariates + split\n",
    "\n",
    "    out_matrix = np.zeros((len(used_id), n_X_features+n_X_static_features+1+n_classes*2+1))\n",
    "\n",
    "    out_matrix[:,0] = A_final\n",
    "    out_matrix[:,(1+n_classes*2):(1+n_classes*2+n_X_features)] = X_norm[:,t,:]\n",
    "    out_matrix[:,(1+n_classes*2+n_X_features):(1+n_classes*2+n_X_features+n_X_static_features)] = X_static_norm\n",
    "\n",
    "    out_matrix[:, 1:2] = Y_f_norm\n",
    "    out_matrix[:, 2:3] = Y_cf_norm\n",
    "\n",
    "    out_matrix[:,-1] = np.array(split)[:,-1]\n",
    "\n",
    "    df = pd.DataFrame(out_matrix)\n",
    "    df.to_csv('{}/{}.csv'.format(dir_base, t+1), index=False)\n",
    "\n",
    "\n",
    "df = pd.DataFrame(np.array(split))\n",
    "df.to_csv('{}/train_test_split.csv'.format(dir_target), index=False, header=False)"
   ]
  },
  {
   "cell_type": "code",
   "execution_count": null,
   "metadata": {},
   "outputs": [],
   "source": []
  },
  {
   "cell_type": "code",
   "execution_count": null,
   "metadata": {},
   "outputs": [],
   "source": []
  }
 ],
 "metadata": {
  "kernelspec": {
   "display_name": "Python [conda env:project]",
   "language": "python",
   "name": "conda-env-project-py"
  },
  "language_info": {
   "codemirror_mode": {
    "name": "ipython",
    "version": 3
   },
   "file_extension": ".py",
   "mimetype": "text/x-python",
   "name": "python",
   "nbconvert_exporter": "python",
   "pygments_lexer": "ipython3",
   "version": "3.8.13"
  }
 },
 "nbformat": 4,
 "nbformat_minor": 2
}
